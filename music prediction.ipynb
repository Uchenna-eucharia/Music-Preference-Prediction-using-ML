{
  "nbformat": 4,
  "nbformat_minor": 0,
  "metadata": {
    "colab": {
      "provenance": []
    },
    "kernelspec": {
      "name": "python3",
      "display_name": "Python 3"
    },
    "language_info": {
      "name": "python"
    }
  },
  "cells": [
    {
      "cell_type": "code",
      "execution_count": 1,
      "metadata": {
        "id": "qkrfCBCDdG9Q"
      },
      "outputs": [],
      "source": [
        "import numpy as np # linear algebra\n",
        "import pandas as pd\n",
        "import xgboost as xgb\n",
        "from sklearn.model_selection import train_test_split"
      ]
    },
    {
      "cell_type": "code",
      "source": [
        "df = pd.read_csv('/train.csv')\n",
        "x_pred= pd.read_csv('/train.csv')"
      ],
      "metadata": {
        "id": "H7B_lDd5dJ2J"
      },
      "execution_count": 5,
      "outputs": []
    },
    {
      "cell_type": "code",
      "source": [
        "def convert_dates(x):\n",
        "    x['date']=pd.to_datetime(x['date'])\n",
        "    x['month']=x['date'].dt.month\n",
        "    x['year']=x['date'].dt.year\n",
        "    x['dayofweek']=x['date'].dt.dayofweek\n",
        "    x.pop('date')\n",
        "    return x"
      ],
      "metadata": {
        "id": "GfNGdeASdVzw"
      },
      "execution_count": 7,
      "outputs": []
    },
    {
      "cell_type": "code",
      "source": [],
      "metadata": {
        "id": "crsjCrK9eI75"
      },
      "execution_count": null,
      "outputs": []
    }
  ]
}